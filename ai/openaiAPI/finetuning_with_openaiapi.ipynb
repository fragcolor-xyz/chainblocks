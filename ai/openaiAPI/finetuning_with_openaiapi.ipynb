{
 "cells": [
  {
   "cell_type": "code",
   "execution_count": 3,
   "metadata": {},
   "outputs": [],
   "source": [
    "# !pip install openai"
   ]
  },
  {
   "cell_type": "code",
   "execution_count": 4,
   "metadata": {},
   "outputs": [],
   "source": [
    "import openai \n",
    "import config\n",
    "import os"
   ]
  },
  {
   "cell_type": "code",
   "execution_count": 5,
   "metadata": {},
   "outputs": [],
   "source": [
    "os.environ['OPENAI_API_KEY'] = config.API_KEY   "
   ]
  },
  {
   "cell_type": "code",
   "execution_count": 6,
   "metadata": {},
   "outputs": [],
   "source": [
    "from openai import OpenAI \n",
    "\n",
    "client = OpenAI()"
   ]
  },
  {
   "cell_type": "markdown",
   "metadata": {},
   "source": [
    "# Create Training file"
   ]
  },
  {
   "cell_type": "code",
   "execution_count": 23,
   "metadata": {},
   "outputs": [],
   "source": [
    "file = client.files.create(\n",
    "    file=open(\"../data/training-set-with-sysprompt.jsonl\", mode=\"rb\"),\n",
    "    purpose=\"fine-tune\"    \n",
    ")\n",
    "file_id = file.id \n",
    "# client.files.create(\n",
    "#     file=open(\"../data/training-set-with-sysprompt.jsonl\", mode=\"rb\"),\n",
    "#     purpose=\"fine-tune\"    \n",
    "# )"
   ]
  },
  {
   "cell_type": "code",
   "execution_count": 24,
   "metadata": {},
   "outputs": [
    {
     "data": {
      "text/plain": [
       "'file-z5cYJLbkVmG3oRLYlsoyChGy'"
      ]
     },
     "execution_count": 24,
     "metadata": {},
     "output_type": "execute_result"
    }
   ],
   "source": [
    "file_id"
   ]
  },
  {
   "cell_type": "code",
   "execution_count": 25,
   "metadata": {},
   "outputs": [],
   "source": [
    "job_id= client.fine_tuning.jobs.create(\n",
    "  training_file=file_id,\n",
    "  model=\"gpt-3.5-turbo\",\n",
    ").id\n"
   ]
  },
  {
   "cell_type": "code",
   "execution_count": 26,
   "metadata": {},
   "outputs": [
    {
     "name": "stdout",
     "output_type": "stream",
     "text": [
      "ftjob-aVrRoNWdyQfNOfw82f0BNTwF\n"
     ]
    }
   ],
   "source": [
    "print(job_id)"
   ]
  },
  {
   "cell_type": "markdown",
   "metadata": {},
   "source": [
    "# Fine-tune model on the training file"
   ]
  },
  {
   "cell_type": "code",
   "execution_count": 30,
   "metadata": {},
   "outputs": [
    {
     "data": {
      "text/plain": [
       "FineTuningJob(id='ftjob-zDvzuLghejvvMK8KPitcTPWI', created_at=1712640715, error=Error(code=None, message=None, param=None, error=None), fine_tuned_model='ft:gpt-3.5-turbo-0125:hasten-inc::9BymRBoU', finished_at=1712642274, hyperparameters=Hyperparameters(n_epochs=3, batch_size=1, learning_rate_multiplier=8), model='gpt-3.5-turbo-0125', object='fine_tuning.job', organization_id='org-M80H3eXQPwPG2R3uDgRlmsWo', result_files=['file-9gjXwOdDpwOYZmfFknPtcuFh'], status='succeeded', trained_tokens=1130697, training_file='file-m32UGveurP8fEPZUeQQ92NDU', validation_file=None, user_provided_suffix=None, seed=992399036, integrations=[])"
      ]
     },
     "execution_count": 30,
     "metadata": {},
     "output_type": "execute_result"
    }
   ],
   "source": [
    "client.fine_tuning.jobs.list(limit=10).data"
   ]
  },
  {
   "cell_type": "code",
   "execution_count": 31,
   "metadata": {},
   "outputs": [
    {
     "name": "stdout",
     "output_type": "stream",
     "text": [
      "ftjob-zDvzuLghejvvMK8KPitcTPWI\n",
      "file-m32UGveurP8fEPZUeQQ92NDU\n"
     ]
    }
   ],
   "source": [
    "# # List 10 fine-tuning jobs\n",
    "job_num = -1 # choosing oldest model; note: latest created will be assigned index 0; FIFO\n",
    "item = client.fine_tuning.jobs.list(limit=10).data[job_num]\n",
    "job_id = item.id\n",
    "training_file = item.training_file\n",
    "print(job_id)\n",
    "print(training_file)"
   ]
  },
  {
   "cell_type": "code",
   "execution_count": 37,
   "metadata": {},
   "outputs": [],
   "source": [
    "fine_tuned_model_name = client.fine_tuning.jobs.retrieve(job_id).fine_tuned_model\n",
    "# print(fine_tuned_model_name)"
   ]
  },
  {
   "cell_type": "markdown",
   "metadata": {},
   "source": [
    "# Use the fine-tuned model"
   ]
  },
  {
   "cell_type": "code",
   "execution_count": 19,
   "metadata": {},
   "outputs": [],
   "source": [
    "file = open(\"../data/system_prompt_enhanced.txt\")"
   ]
  },
  {
   "cell_type": "code",
   "execution_count": 20,
   "metadata": {},
   "outputs": [],
   "source": [
    "system_prompt = file.read() # to modify as desired\n",
    "prompt = \"spawn 6 trees in a grid\""
   ]
  },
  {
   "cell_type": "code",
   "execution_count": 35,
   "metadata": {},
   "outputs": [],
   "source": [
    "completion = client.chat.completions.create(\n",
    "  model = fine_tuned_model_name,\n",
    "  messages=[\n",
    "    {\"role\": \"system\", \"content\": f\"{system_prompt}\"},\n",
    "    {\"role\": \"user\", \"content\": f\"{prompt}\"}\n",
    "  ]\n",
    ")"
   ]
  },
  {
   "cell_type": "code",
   "execution_count": 36,
   "metadata": {},
   "outputs": [
    {
     "name": "stdout",
     "output_type": "stream",
     "text": [
      "\n",
      "   @f3( x 0.0 z)\n",
      "   = position\n",
      "\n",
      "   position\n",
      "   Spawn(Name: tree  Quantity: 6  Gap: 2.0)\n",
      "  \n",
      "   @f3( x 0.0 z)\n",
      "   = position\n",
      "\n",
      "   Get(position)\n",
      "   Spawn(Name: tree  Quantity: 6  Gap: 2.0)\n",
      "  \n",
      "    This Shard will spawn a number of Entities with the specified unique Name, in the 3D space. The spawned entities will be spawned in a grid like pattern with \n",
      "    a specified Gap between each entity. The spawned entities will have their 0,0,0 point snapped to the position provided in the solution above, tree 1 will be spawned 2 units\n",
      "    to the right of the origin, followed by tree 2, 2 units to the right of tree 1 and so forth. If the spawned quantity exceeds  the amount of entities that can  fit in\n",
      "    the grid (7 in the solution provided above) the Shard will only spawn the amount of entities that can fit in the grid. \n",
      "    #General\n"
     ]
    }
   ],
   "source": [
    "print(completion.choices[0].message.content)"
   ]
  },
  {
   "cell_type": "code",
   "execution_count": null,
   "metadata": {},
   "outputs": [],
   "source": []
  }
 ],
 "metadata": {
  "kernelspec": {
   "display_name": "finetuning_with_openaiapi",
   "language": "python",
   "name": "python3"
  },
  "language_info": {
   "codemirror_mode": {
    "name": "ipython",
    "version": 3
   },
   "file_extension": ".py",
   "mimetype": "text/x-python",
   "name": "python",
   "nbconvert_exporter": "python",
   "pygments_lexer": "ipython3",
   "version": "3.11.5"
  }
 },
 "nbformat": 4,
 "nbformat_minor": 2
}
