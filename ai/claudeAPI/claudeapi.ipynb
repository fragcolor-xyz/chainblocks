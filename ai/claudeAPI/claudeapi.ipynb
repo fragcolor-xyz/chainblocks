{
 "cells": [
  {
   "cell_type": "markdown",
   "metadata": {},
   "source": [
    "# Prompt engineering for Claude 3 using API via claudetools library"
   ]
  },
  {
   "cell_type": "markdown",
   "metadata": {},
   "source": [
    "The parameter explanation is provided below.\n",
    "\n",
    "- model: The name of the model from the Claude 3 family.\n",
    "- messages: Messages transferred between the user and the assistant.\n",
    "- tools: Set of function specification to use.\n",
    "- tool_choice: User a particular function. By default the value is None. The model will figure out the function to call and provide the related parameters. If a specific function needs to be called provide {\"name\": \"function name\"} in the tool_choice argument.\n",
    "- multiple_tools: Defaults to False. Can be set to True to get multiple function calls.\n",
    "- attach_system: Defaults to None. Can also accept string which will be attached as part of the system prompt.\n",
    "- max_tokens: As mentioned above, no default value of max_tokens is assumed. Hence, please provide max_tokens to avoid getting an error."
   ]
  },
  {
   "cell_type": "code",
   "execution_count": 1,
   "metadata": {},
   "outputs": [
    {
     "name": "stdout",
     "output_type": "stream",
     "text": [
      "Collecting claudetools\n",
      "  Obtaining dependency information for claudetools from https://files.pythonhosted.org/packages/79/91/2ddd25c6da3fb2f7c87e50574dbb8ff325c2ee490db7381635445aaa4c5a/claudetools-0.8.0-py3-none-any.whl.metadata\n",
      "  Downloading claudetools-0.8.0-py3-none-any.whl.metadata (9.2 kB)\n",
      "Collecting httpx==0.25.0 (from claudetools)\n",
      "  Obtaining dependency information for httpx==0.25.0 from https://files.pythonhosted.org/packages/33/0d/d9ce469af019741c8999711d36b270ff992ceb1a0293f73f9f34fdf131e9/httpx-0.25.0-py3-none-any.whl.metadata\n",
      "  Downloading httpx-0.25.0-py3-none-any.whl.metadata (7.6 kB)\n",
      "Collecting anthropic==0.19.1 (from claudetools)\n",
      "  Obtaining dependency information for anthropic==0.19.1 from https://files.pythonhosted.org/packages/83/be/2127c0cc1aceb1109ae4522e92038626954d747da2b4f359538a3cb79018/anthropic-0.19.1-py3-none-any.whl.metadata\n",
      "  Downloading anthropic-0.19.1-py3-none-any.whl.metadata (15 kB)\n",
      "Collecting pydantic==2.4.2 (from claudetools)\n",
      "  Obtaining dependency information for pydantic==2.4.2 from https://files.pythonhosted.org/packages/73/66/0a72c9fcde42e5650c8d8d5c5c1873b9a3893018020c77ca8eb62708b923/pydantic-2.4.2-py3-none-any.whl.metadata\n",
      "  Downloading pydantic-2.4.2-py3-none-any.whl.metadata (158 kB)\n",
      "\u001b[2K     \u001b[90m━━━━━━━━━━━━━━━━━━━━━━━━━━━━━━━━━━━━━━━\u001b[0m \u001b[32m158.6/158.6 kB\u001b[0m \u001b[31m1.7 MB/s\u001b[0m eta \u001b[36m0:00:00\u001b[0ma \u001b[36m0:00:01\u001b[0m\n",
      "\u001b[?25hRequirement already satisfied: anyio<5,>=3.5.0 in /home/solarspaceclouds/Desktop/Fragcolor/AI-assistant/AI-Assistant/finetuning/lib/python3.11/site-packages (from anthropic==0.19.1->claudetools) (4.3.0)\n",
      "Requirement already satisfied: distro<2,>=1.7.0 in /home/solarspaceclouds/Desktop/Fragcolor/AI-assistant/AI-Assistant/finetuning/lib/python3.11/site-packages (from anthropic==0.19.1->claudetools) (1.9.0)\n",
      "Requirement already satisfied: sniffio in /home/solarspaceclouds/Desktop/Fragcolor/AI-assistant/AI-Assistant/finetuning/lib/python3.11/site-packages (from anthropic==0.19.1->claudetools) (1.3.1)\n",
      "Requirement already satisfied: tokenizers>=0.13.0 in /home/solarspaceclouds/Desktop/Fragcolor/AI-assistant/AI-Assistant/finetuning/lib/python3.11/site-packages (from anthropic==0.19.1->claudetools) (0.15.2)\n",
      "Requirement already satisfied: typing-extensions<5,>=4.7 in /home/solarspaceclouds/Desktop/Fragcolor/AI-assistant/AI-Assistant/finetuning/lib/python3.11/site-packages (from anthropic==0.19.1->claudetools) (4.10.0)\n",
      "Requirement already satisfied: certifi in /home/solarspaceclouds/Desktop/Fragcolor/AI-assistant/AI-Assistant/finetuning/lib/python3.11/site-packages (from httpx==0.25.0->claudetools) (2024.2.2)\n",
      "Collecting httpcore<0.19.0,>=0.18.0 (from httpx==0.25.0->claudetools)\n",
      "  Obtaining dependency information for httpcore<0.19.0,>=0.18.0 from https://files.pythonhosted.org/packages/ac/97/724afbb7925339f6214bf1fdb5714d1a462690466832bf8fb3fd497649f1/httpcore-0.18.0-py3-none-any.whl.metadata\n",
      "  Downloading httpcore-0.18.0-py3-none-any.whl.metadata (18 kB)\n",
      "Requirement already satisfied: idna in /home/solarspaceclouds/Desktop/Fragcolor/AI-assistant/AI-Assistant/finetuning/lib/python3.11/site-packages (from httpx==0.25.0->claudetools) (3.6)\n",
      "Requirement already satisfied: annotated-types>=0.4.0 in /home/solarspaceclouds/Desktop/Fragcolor/AI-assistant/AI-Assistant/finetuning/lib/python3.11/site-packages (from pydantic==2.4.2->claudetools) (0.6.0)\n",
      "Collecting pydantic-core==2.10.1 (from pydantic==2.4.2->claudetools)\n",
      "  Obtaining dependency information for pydantic-core==2.10.1 from https://files.pythonhosted.org/packages/39/09/120c06a52ed4bb1022d060bec0a16e5deb4ce79a1c4c11ef9519bc32b59f/pydantic_core-2.10.1-cp311-cp311-manylinux_2_17_x86_64.manylinux2014_x86_64.whl.metadata\n",
      "  Downloading pydantic_core-2.10.1-cp311-cp311-manylinux_2_17_x86_64.manylinux2014_x86_64.whl.metadata (6.5 kB)\n",
      "Requirement already satisfied: h11<0.15,>=0.13 in /home/solarspaceclouds/Desktop/Fragcolor/AI-assistant/AI-Assistant/finetuning/lib/python3.11/site-packages (from httpcore<0.19.0,>=0.18.0->httpx==0.25.0->claudetools) (0.14.0)\n",
      "Requirement already satisfied: huggingface_hub<1.0,>=0.16.4 in /home/solarspaceclouds/Desktop/Fragcolor/AI-assistant/AI-Assistant/finetuning/lib/python3.11/site-packages (from tokenizers>=0.13.0->anthropic==0.19.1->claudetools) (0.22.2)\n",
      "Requirement already satisfied: filelock in /home/solarspaceclouds/Desktop/Fragcolor/AI-assistant/AI-Assistant/finetuning/lib/python3.11/site-packages (from huggingface_hub<1.0,>=0.16.4->tokenizers>=0.13.0->anthropic==0.19.1->claudetools) (3.13.3)\n",
      "Requirement already satisfied: fsspec>=2023.5.0 in /home/solarspaceclouds/Desktop/Fragcolor/AI-assistant/AI-Assistant/finetuning/lib/python3.11/site-packages (from huggingface_hub<1.0,>=0.16.4->tokenizers>=0.13.0->anthropic==0.19.1->claudetools) (2024.2.0)\n",
      "Requirement already satisfied: packaging>=20.9 in /home/solarspaceclouds/Desktop/Fragcolor/AI-assistant/AI-Assistant/finetuning/lib/python3.11/site-packages (from huggingface_hub<1.0,>=0.16.4->tokenizers>=0.13.0->anthropic==0.19.1->claudetools) (24.0)\n",
      "Requirement already satisfied: pyyaml>=5.1 in /home/solarspaceclouds/Desktop/Fragcolor/AI-assistant/AI-Assistant/finetuning/lib/python3.11/site-packages (from huggingface_hub<1.0,>=0.16.4->tokenizers>=0.13.0->anthropic==0.19.1->claudetools) (6.0.1)\n",
      "Requirement already satisfied: requests in /home/solarspaceclouds/Desktop/Fragcolor/AI-assistant/AI-Assistant/finetuning/lib/python3.11/site-packages (from huggingface_hub<1.0,>=0.16.4->tokenizers>=0.13.0->anthropic==0.19.1->claudetools) (2.31.0)\n",
      "Requirement already satisfied: tqdm>=4.42.1 in /home/solarspaceclouds/Desktop/Fragcolor/AI-assistant/AI-Assistant/finetuning/lib/python3.11/site-packages (from huggingface_hub<1.0,>=0.16.4->tokenizers>=0.13.0->anthropic==0.19.1->claudetools) (4.66.2)\n",
      "Requirement already satisfied: charset-normalizer<4,>=2 in /home/solarspaceclouds/Desktop/Fragcolor/AI-assistant/AI-Assistant/finetuning/lib/python3.11/site-packages (from requests->huggingface_hub<1.0,>=0.16.4->tokenizers>=0.13.0->anthropic==0.19.1->claudetools) (3.3.2)\n",
      "Requirement already satisfied: urllib3<3,>=1.21.1 in /home/solarspaceclouds/Desktop/Fragcolor/AI-assistant/AI-Assistant/finetuning/lib/python3.11/site-packages (from requests->huggingface_hub<1.0,>=0.16.4->tokenizers>=0.13.0->anthropic==0.19.1->claudetools) (2.2.1)\n",
      "Downloading claudetools-0.8.0-py3-none-any.whl (15 kB)\n",
      "Downloading anthropic-0.19.1-py3-none-any.whl (848 kB)\n",
      "\u001b[2K   \u001b[90m━━━━━━━━━━━━━━━━━━━━━━━━━━━━━━━━━━━━━━━━\u001b[0m \u001b[32m848.6/848.6 kB\u001b[0m \u001b[31m1.3 MB/s\u001b[0m eta \u001b[36m0:00:00\u001b[0m00:01\u001b[0m00:01\u001b[0m\n",
      "\u001b[?25hDownloading httpx-0.25.0-py3-none-any.whl (75 kB)\n",
      "\u001b[2K   \u001b[90m━━━━━━━━━━━━━━━━━━━━━━━━━━━━━━━━━━━━━━━━\u001b[0m \u001b[32m75.7/75.7 kB\u001b[0m \u001b[31m12.4 MB/s\u001b[0m eta \u001b[36m0:00:00\u001b[0m\n",
      "\u001b[?25hDownloading pydantic-2.4.2-py3-none-any.whl (395 kB)\n",
      "\u001b[2K   \u001b[90m━━━━━━━━━━━━━━━━━━━━━━━━━━━━━━━━━━━━━━━━\u001b[0m \u001b[32m395.8/395.8 kB\u001b[0m \u001b[31m1.8 MB/s\u001b[0m eta \u001b[36m0:00:00\u001b[0ma \u001b[36m0:00:01\u001b[0m\n",
      "\u001b[?25hDownloading pydantic_core-2.10.1-cp311-cp311-manylinux_2_17_x86_64.manylinux2014_x86_64.whl (2.0 MB)\n",
      "\u001b[2K   \u001b[90m━━━━━━━━━━━━━━━━━━━━━━━━━━━━━━━━━━━━━━━━\u001b[0m \u001b[32m2.0/2.0 MB\u001b[0m \u001b[31m2.0 MB/s\u001b[0m eta \u001b[36m0:00:00\u001b[0ma \u001b[36m0:00:01\u001b[0m\n",
      "\u001b[?25hDownloading httpcore-0.18.0-py3-none-any.whl (76 kB)\n",
      "\u001b[2K   \u001b[90m━━━━━━━━━━━━━━━━━━━━━━━━━━━━━━━━━━━━━━━━\u001b[0m \u001b[32m76.0/76.0 kB\u001b[0m \u001b[31m1.8 MB/s\u001b[0m eta \u001b[36m0:00:00\u001b[0ma \u001b[36m0:00:01\u001b[0m\n",
      "\u001b[?25hInstalling collected packages: pydantic-core, pydantic, httpcore, httpx, anthropic, claudetools\n",
      "  Attempting uninstall: pydantic-core\n",
      "    Found existing installation: pydantic_core 2.16.3\n",
      "    Uninstalling pydantic_core-2.16.3:\n",
      "      Successfully uninstalled pydantic_core-2.16.3\n",
      "  Attempting uninstall: pydantic\n",
      "    Found existing installation: pydantic 2.6.4\n",
      "    Uninstalling pydantic-2.6.4:\n",
      "      Successfully uninstalled pydantic-2.6.4\n",
      "  Attempting uninstall: httpcore\n",
      "    Found existing installation: httpcore 1.0.5\n",
      "    Uninstalling httpcore-1.0.5:\n",
      "      Successfully uninstalled httpcore-1.0.5\n",
      "  Attempting uninstall: httpx\n",
      "    Found existing installation: httpx 0.27.0\n",
      "    Uninstalling httpx-0.27.0:\n",
      "      Successfully uninstalled httpx-0.27.0\n",
      "Successfully installed anthropic-0.19.1 claudetools-0.8.0 httpcore-0.18.0 httpx-0.25.0 pydantic-2.4.2 pydantic-core-2.10.1\n",
      "\n",
      "\u001b[1m[\u001b[0m\u001b[34;49mnotice\u001b[0m\u001b[1;39;49m]\u001b[0m\u001b[39;49m A new release of pip is available: \u001b[0m\u001b[31;49m23.2.1\u001b[0m\u001b[39;49m -> \u001b[0m\u001b[32;49m24.0\u001b[0m\n",
      "\u001b[1m[\u001b[0m\u001b[34;49mnotice\u001b[0m\u001b[1;39;49m]\u001b[0m\u001b[39;49m To update, run: \u001b[0m\u001b[32;49mpip install --upgrade pip\u001b[0m\n",
      "Collecting python-dotenv\n",
      "  Obtaining dependency information for python-dotenv from https://files.pythonhosted.org/packages/6a/3e/b68c118422ec867fa7ab88444e1274aa40681c606d59ac27de5a5588f082/python_dotenv-1.0.1-py3-none-any.whl.metadata\n",
      "  Downloading python_dotenv-1.0.1-py3-none-any.whl.metadata (23 kB)\n",
      "Downloading python_dotenv-1.0.1-py3-none-any.whl (19 kB)\n",
      "Installing collected packages: python-dotenv\n",
      "Successfully installed python-dotenv-1.0.1\n",
      "\n",
      "\u001b[1m[\u001b[0m\u001b[34;49mnotice\u001b[0m\u001b[1;39;49m]\u001b[0m\u001b[39;49m A new release of pip is available: \u001b[0m\u001b[31;49m23.2.1\u001b[0m\u001b[39;49m -> \u001b[0m\u001b[32;49m24.0\u001b[0m\n",
      "\u001b[1m[\u001b[0m\u001b[34;49mnotice\u001b[0m\u001b[1;39;49m]\u001b[0m\u001b[39;49m To update, run: \u001b[0m\u001b[32;49mpip install --upgrade pip\u001b[0m\n"
     ]
    }
   ],
   "source": [
    "# !pip install claudetools \n",
    "# # for interaction with claude3 model\n",
    "# !pip install python-dotenv\n"
   ]
  },
  {
   "cell_type": "markdown",
   "metadata": {},
   "source": [
    "# Trying 1 Claude3 model and 1 prompt\n",
    "- with Dependency prompt (system prompt)\n",
    "    - claude-3-opus\n",
    "    - \"spawn 6 trees in a grid\"\n"
   ]
  },
  {
   "cell_type": "code",
   "execution_count": 2,
   "metadata": {},
   "outputs": [
    {
     "data": {
      "text/plain": [
       "True"
      ]
     },
     "execution_count": 2,
     "metadata": {},
     "output_type": "execute_result"
    }
   ],
   "source": [
    "import asyncio\n",
    "# from claudetools.tools.tool import Tool\n",
    "# from pydantic import BaseModel, Field\n",
    "from typing import List, Dict\n",
    "import json\n",
    "import requests\n",
    "import pandas as pd\n",
    "import os\n",
    "\n",
    "from config import ANTHROPIC_API_KEY\n",
    "import anthropic"
   ]
  },
  {
   "cell_type": "code",
   "execution_count": 8,
   "metadata": {},
   "outputs": [],
   "source": [
    "ANTHROPIC_API_KEY = os.getenv('ANTHROPIC_API_KEY')"
   ]
  },
  {
   "cell_type": "code",
   "execution_count": 1,
   "metadata": {},
   "outputs": [],
   "source": [
    "prompt = \"\"\"\n",
    "    spawn 6 trees in a grid\n",
    "\"\"\"\n",
    "\n",
    "# dependency prompt to attach to the main system prompt\n",
    "# DEPENDENCY_PROMPT = \"\"\"You are a helpful assistant that helps a user with their tasks and todos. The user can add a todos, mark todos as completed, or reopen certain todos.\n",
    "# The user can provide multiple actions at once so you've to break those down and call the appropriate functions in the correct sequence.\"\"\"\n",
    "DEPENDENCY_PROMPT = \"\"\"\n",
    "I need your help to understand and generate some commands in the form of Shards scripts to be sent to our game creation system (Formabble), which is Right Handed with Y as up axis, from whatever the user inputs.\n",
    "\n",
    "### A bit about Shards:\n",
    "\n",
    "String: \"hello world\"\n",
    "Integer: 1\n",
    "Float: 1.0\n",
    "Float2: @f2(1.0 2.0)\n",
    "Float3: @f3(1.1 2.0 3.0)\n",
    "We also have @f4\n",
    "Int vectors also: @i2, @i3, @i4, @i8 and @i16@ is a prefix for our built-ins, definitions and templates to distinguish between variables\n",
    "; is the line comment symbol, ignore comments\n",
    "\n",
    "Shards [\"Hello \" @name] | String.Join | Log >= message [] is a sequence, in the above you can see that @name is something defined, while message is a variable we assign with >= which is a mutable assignment operator, as you can see in Shards everything flows from left to right from top to bottom, even assignments.\n",
    "> is used to update mutable values\n",
    "= is used to assign am immutable reference\n",
    "\n",
    "Shards Count(seq) When({IsMore(0) | And | IsMore(selected-idx)} {   ; DO SOMETHING With Count(seq) output }) \n",
    "In this Shards script, we start by counting the elements in seq. Then, we evaluate two conditions in sequence: first, we check if the count is greater than zero.\n",
    "If this is true, we then check if the count is also greater than selected-idx. Both conditions must be satisfied for the script to execute the code within the block\n",
    "\n",
    "Types are strict, so when you use or pass a constant 0 will be an integer 0.0 will be float\n",
    "Same when declaring variables:\n",
    "0.0 >= float-var0 >= int-var\n",
    "Types are also strict when doing math! so please use right types, you can use ToFloat, ToInt etc to convert.\n",
    "Variables must be unique! Don't Set with same name. Unless it's an Update (>)\n",
    "Example, idx | Math.Mod(10), if you need float output use idx | Math.Mod(10) | ToFloat\n",
    "You often mistake even the opposite, if for some reason idx is a float you also need to do this: idx | ToInt | Math.Mod(10) | ToFloat\n",
    "E.g.\n",
    "idx | ToFloat | Math.Divide(5.0) | Math.Floor = row row | Math.Mod(2) | ToFloat | Math.Multiply(1.0) = zExtraOffset ; <------- WRONG, should be: row | ToInt| Math.Mod(2) | ToFloat | Math.Multiply(1.0) = zExtraOffset\n",
    "Or\n",
    "idx | Math.Mod(5) = column column | ToFloat | Math.Multiply(1.75) = zOffset ; column came from Mod output, so was a Int!\n",
    "\n",
    "Math is done like this:\n",
    "time | Math.Multiply(0.2) | Math.AxisAngleX | Math.Rotation ; Rotation X | Math.MatMul((time | Math.Multiply(0.7) | Math.AxisAngleY | Math.Rotation)) ; Rotation Y | Math.MatMul((time | Math.Multiply(0.9) | Math.AxisAngleZ | Math.Rotation)) ; Rotation Z | Log+ is Math.Add, - is Math.Subtract, * is Math.Multiply, / is Math.Divide\n",
    "We don't use regular operators such as (+,-,*,/) in shards and math is always from left to right we don't have math expressions like C,\n",
    "so this is wrong @f3(1 + index1 2 1 + index2), but it can be achieved using () construct which will wrap the operation and create a temp variable such as:\n",
    "@f3((1 | Math.Add(x)) 2 (1 | Math.Add(y)))\n",
    "\n",
    "Also keep in mind that Math.Floor will output a float! so you might need to ToInt its output!!\n",
    "\n",
    "Also Shards is sort of strongly typed so if you wanna do something like this:\n",
    "f3(0.0 (idx | Math.Multiply(1.0)) 0.0)\n",
    "it should be:\n",
    "@f3(0.0 (idx | ToFloat | Math.Multiply(1.0)) 0.0)\n",
    "\n",
    "Loops:\n",
    "0 >= idx ; we need to manage manually the index Repeat({   Msg(\"Hello\")   Math.Inc(idx) } Times: 3)\n",
    "or\n",
    "ForRange(0 2 {   = idx ; we get automatically the current index   Msg(\"Hello\") })\n",
    "\n",
    "Seq access and creation\n",
    "1 >> s 2 >> s  s | Take(0) | Assert.Is(1)\n",
    "\n",
    "Tables access and creation\n",
    "{a: 1 b: 2} = t ; actually any JSON will do, our tables are like json tables  t | Take(\"a\") | Assert.Is(1)\n",
    "Always prefer declaring tables in JSON style though! and Immutable.\n",
    "\n",
    "Random numbers!\n",
    "RandomFloat(Max: 1.0) | IsLess(1.0) | Assert.Is(true) RandomInt(Max: 100) | IsLess(100) | Assert.Is(true)\n",
    "\n",
    "Remember:\n",
    "this is wrong:\n",
    "@f3(randomX 0.0 y | Math.Multiply(10.0)) = position\n",
    "it should be:\n",
    "@f3(randomX 0.0 (y | Math.Multiply(10.0))) = position as you need () for such lambda behavior\n",
    "\n",
    "Some Formabble specific functionality:\n",
    "* Formalize\n",
    "* Description\n",
    "* Spawn or create an entity (a form in our case) from a form asset in the environment or scene (called domain in our case).\n",
    "* Example\n",
    "* {Graphics: {\"fbl/pose\": {translation: @f3(0.0 0.0 0.0) rotation: @f4(0.0 0.0 0.0 1.0) scale: @f3(1.0 1.0 1.0)}}} | Fbl.Formalize(\"__ASSET_ID__\")\n",
    "* Notes\n",
    "* Important: Always include all TRS components, even if default!!\n",
    "* Important: Rotation is always a quaternion\n",
    "* Dispatch\n",
    "* Description\n",
    "* Dispatches a variable change to the requested form in the right subsystem\n",
    "* Examples\n",
    "* Math.Decompose = gizmo-trs | gizmo-trs | Take(\"translation\") | Fbl.Dispatch(form-id WirePoolType::Graphics \"fbl/pose\" Key: \"translation\") (Key is optional)\n",
    "* 10.0 | Fbl.Dispatch(\"cube1\" WirePoolType::Graphics \"speed\")\n",
    "\n",
    "Now from now on you will wait for user prompts and generate commands.\n",
    "For now just focus on Formalizing forms. User input will be natural language instructions.\n",
    "Please output a Shard script with all the code to achieve the requested instructions.\n",
    "Be brief, omit validation for now.\n",
    "Oh and please from now on just answer queries related to Formabble and Shards.\n",
    "\n",
    "Examples:\n",
    "A RANDOM FOREST\n",
    "0 >= idx ForRange(0 99 {   idx | ToFloat | Math.Divide(10.0) | Math.Floor = x   idx | Math.Mod(10) = z   RandomFloat(Max: 1.0) | Math.Multiply(10.0) = randomX   RandomFloat(Max: 1.0) | Math.Multiply(10.0) = randomZ   @f3((x | Math.Add(randomX)) 0.0 (z | ToFloat | Math.Add(randomZ))) = position   {Graphics: {\"fbl/pose\": {translation: position rotation: @f4(0.0 0.0 0.0 1.0) scale: @f3(1.0)}}} | Fbl.Formalize(\"d-treeDefault\")   Math.Inc(idx) })\n",
    "\n",
    "A GRID OF BLOCKS\n",
    "0 >= idx ForRange(0 99 {   idx | ToFloat | Math.Divide(10.0) | Math.Floor = x   idx | Math.Mod(10) | ToFloat = z   @f3(x 0.0 z) = position   {Graphics: {\"fbl/pose\": {translation: position rotation: @f4(0.0 0.0 0.0 1.0) scale: @f3(1.0)}}} | Fbl.Formalize(\"d-block\")   Math.Inc(idx) })\n",
    "\n",
    "ALWAYS PREFER SIMPLE CODE, DON'T NEED TO OPTIMIZE, UNROLL OPERATIONS ETC!\n",
    "Your reply should look like this:\n",
    "MARKDOWN SHARDS CODE BLOCK TO EVAL\n",
    "LINE BREAK\n",
    "COMMENTS\n",
    "\"\"\"\n",
    "# set up the user messages\n",
    "user_messages = [{\n",
    "    \"role\":\n",
    "    \"user\",\n",
    "    \"content\":\n",
    "    DEPENDENCY_PROMPT + \"\\n\" + prompt}]   \n"
   ]
  },
  {
   "cell_type": "code",
   "execution_count": 20,
   "metadata": {},
   "outputs": [],
   "source": []
  },
  {
   "cell_type": "code",
   "execution_count": 22,
   "metadata": {},
   "outputs": [
    {
     "name": "stderr",
     "output_type": "stream",
     "text": [
      "2024-04-09 16:10:52 - httpx - INFO - HTTP Request: POST https://api.anthropic.com/v1/messages \"HTTP/1.1 200 OK\"\n"
     ]
    },
    {
     "name": "stdout",
     "output_type": "stream",
     "text": [
      "[ContentBlock(text='```\\n0 >= idx\\nForRange(0 5 {\\n  idx | ToFloat | Math.Divide(2.0) | Math.Floor = x\\n  idx | Math.Mod(2) | ToFloat = z\\n  @f3((x | Math.Multiply(5.0)) 0.0 (z | Math.Multiply(5.0))) = position\\n  {Graphics: {\"fbl/pose\": {translation: position rotation: @f4(0.0 0.0 0.0 1.0) scale: @f3(1.0 1.0 1.0)}}} | Fbl.Formalize(\"d-treeDefault\") \\n  Math.Inc(idx)\\n})\\n```\\n\\nThis will spawn 6 trees in a 2x3 grid pattern. \\n- It loops 6 times using ForRange\\n- Calculates the x and z positions by dividing and modding the index by 2 to get coordinates in a grid\\n- Multiplies x and z by 5 to space out the trees\\n- Sets the position using the calculated x, 0 for y, and z \\n- Formalizes a \"d-treeDefault\" asset at each position\\n\\nLet me know if you have any other questions!', type='text')]\n"
     ]
    }
   ],
   "source": [
    "\n",
    "full_prompt = DEPENDENCY_PROMPT + \"\\n\" + prompt\n",
    "\n",
    "\n",
    "client = anthropic.Anthropic(\n",
    "    # defaults to os.environ.get(\"ANTHROPIC_API_KEY\")\n",
    "    api_key=ANTHROPIC_API_KEY,\n",
    ")\n",
    "\n",
    "message = client.messages.create(\n",
    "    model=\"claude-3-opus-20240229\",\n",
    "    max_tokens=1000,\n",
    "    temperature=0.0,\n",
    "    system=\"You are a Shards programming expert.\",\n",
    "    messages=[\n",
    "        {\"role\": \"user\", \"content\": full_prompt}\n",
    "    ]\n",
    ")\n",
    "\n",
    "print(message.content)"
   ]
  },
  {
   "cell_type": "code",
   "execution_count": 23,
   "metadata": {},
   "outputs": [
    {
     "name": "stdout",
     "output_type": "stream",
     "text": [
      "```\n",
      "0 >= idx\n",
      "ForRange(0 5 {\n",
      "  idx | ToFloat | Math.Divide(2.0) | Math.Floor = x\n",
      "  idx | Math.Mod(2) | ToFloat = z\n",
      "  @f3((x | Math.Multiply(5.0)) 0.0 (z | Math.Multiply(5.0))) = position\n",
      "  {Graphics: {\"fbl/pose\": {translation: position rotation: @f4(0.0 0.0 0.0 1.0) scale: @f3(1.0 1.0 1.0)}}} | Fbl.Formalize(\"d-treeDefault\") \n",
      "  Math.Inc(idx)\n",
      "})\n",
      "```\n",
      "\n",
      "This will spawn 6 trees in a 2x3 grid pattern. \n",
      "- It loops 6 times using ForRange\n",
      "- Calculates the x and z positions by dividing and modding the index by 2 to get coordinates in a grid\n",
      "- Multiplies x and z by 5 to space out the trees\n",
      "- Sets the position using the calculated x, 0 for y, and z \n",
      "- Formalizes a \"d-treeDefault\" asset at each position\n",
      "\n",
      "Let me know if you have any other questions!\n"
     ]
    }
   ],
   "source": [
    "print(message.content[0].text)"
   ]
  },
  {
   "cell_type": "markdown",
   "metadata": {},
   "source": [
    "# Trying 3 Claude3 models and 5 prompts"
   ]
  },
  {
   "cell_type": "code",
   "execution_count": 25,
   "metadata": {},
   "outputs": [],
   "source": [
    "models = [\"claude-3-opus-20240229\", \"claude-3-sonnet-20240229\",\"claude-3-haiku-20240307\"]\n",
    "prompts = [DEPENDENCY_PROMPT + \"spawn 6 trees in a grid\", \n",
    "           \"Generate 6 trees spread randomly on a 3x3 grid using d-TreePine, starting from x and z position of 1.0 Keep the y-axis at 0.0\",\n",
    "           \"Generate 10 flowers spread randomly on a 2x2 grid using d-FlowerRed, starting from x and z position of 1.0 Keep the y-axis at 0.0 \",\n",
    "           \"Generate a 6x6 hexagonal grid using d-BlockHexagon tiles. Keep the y-axis at -1.0 Offset tile’s x position by 0.5 and z position by 0.865 so they form a cohesive hexagonal grid\",\n",
    "           \"Starting from x position 4 and z position 4, generate a 4x4 hexagonal grid using d-BlockSnowHexagon tiles. Keep the y-axis at -1.0 Offset tile’s x position by 0.5 and z position by 0.865 so they form a cohesive hexagonal grid.\"\n",
    "           ] # 5 prompts"
   ]
  },
  {
   "cell_type": "code",
   "execution_count": 29,
   "metadata": {},
   "outputs": [
    {
     "name": "stderr",
     "output_type": "stream",
     "text": [
      "2024-04-09 16:19:30 - httpx - INFO - HTTP Request: POST https://api.anthropic.com/v1/messages \"HTTP/1.1 200 OK\"\n",
      "2024-04-09 16:20:02 - httpx - INFO - HTTP Request: POST https://api.anthropic.com/v1/messages \"HTTP/1.1 200 OK\"\n",
      "2024-04-09 16:20:37 - httpx - INFO - HTTP Request: POST https://api.anthropic.com/v1/messages \"HTTP/1.1 200 OK\"\n",
      "2024-04-09 16:21:01 - httpx - INFO - HTTP Request: POST https://api.anthropic.com/v1/messages \"HTTP/1.1 200 OK\"\n",
      "2024-04-09 16:21:26 - httpx - INFO - HTTP Request: POST https://api.anthropic.com/v1/messages \"HTTP/1.1 200 OK\"\n",
      "2024-04-09 16:21:32 - httpx - INFO - HTTP Request: POST https://api.anthropic.com/v1/messages \"HTTP/1.1 200 OK\"\n",
      "2024-04-09 16:21:45 - httpx - INFO - HTTP Request: POST https://api.anthropic.com/v1/messages \"HTTP/1.1 200 OK\"\n",
      "2024-04-09 16:21:56 - httpx - INFO - HTTP Request: POST https://api.anthropic.com/v1/messages \"HTTP/1.1 200 OK\"\n",
      "2024-04-09 16:22:09 - httpx - INFO - HTTP Request: POST https://api.anthropic.com/v1/messages \"HTTP/1.1 200 OK\"\n",
      "2024-04-09 16:22:18 - httpx - INFO - HTTP Request: POST https://api.anthropic.com/v1/messages \"HTTP/1.1 200 OK\"\n",
      "2024-04-09 16:22:23 - httpx - INFO - HTTP Request: POST https://api.anthropic.com/v1/messages \"HTTP/1.1 200 OK\"\n",
      "2024-04-09 16:22:29 - httpx - INFO - HTTP Request: POST https://api.anthropic.com/v1/messages \"HTTP/1.1 200 OK\"\n",
      "2024-04-09 16:22:34 - httpx - INFO - HTTP Request: POST https://api.anthropic.com/v1/messages \"HTTP/1.1 200 OK\"\n",
      "2024-04-09 16:22:40 - httpx - INFO - HTTP Request: POST https://api.anthropic.com/v1/messages \"HTTP/1.1 200 OK\"\n",
      "2024-04-09 16:22:46 - httpx - INFO - HTTP Request: POST https://api.anthropic.com/v1/messages \"HTTP/1.1 200 OK\"\n"
     ]
    },
    {
     "name": "stdout",
     "output_type": "stream",
     "text": [
      "Completions saved to model_completions.csv\n"
     ]
    }
   ],
   "source": [
    "# Create empty DataFrame\n",
    "df = pd.DataFrame(columns=['Prompt', 'Model', 'Completion'])\n",
    "\n",
    "for model in models:\n",
    "    for prompt in prompts:\n",
    "        # call the tool with the required parameters\n",
    "        message = client.messages.create(\n",
    "            model=model,\n",
    "            max_tokens=1000,\n",
    "            temperature=0.0,\n",
    "            system=\"You are a Shards programming expert.\",\n",
    "            messages=[\n",
    "                {\"role\": \"user\", \"content\": prompt}\n",
    "            ]\n",
    "        )\n",
    "        # Appending the result to the DataFrame\n",
    "        df = pd.concat([df, pd.DataFrame({'Prompt': prompt, 'Model': model, 'Completion': [message.content[0].text]})], ignore_index=True)\n",
    "\n",
    "# Saving the results to a CSV file\n",
    "df.to_csv(\"claude_model_completions.csv\", index=False)\n",
    "\n",
    "print(\"Completions saved to model_completions.csv\")\n"
   ]
  }
 ],
 "metadata": {
  "kernelspec": {
   "display_name": "finetuning",
   "language": "python",
   "name": "python3"
  },
  "language_info": {
   "codemirror_mode": {
    "name": "ipython",
    "version": 3
   },
   "file_extension": ".py",
   "mimetype": "text/x-python",
   "name": "python",
   "nbconvert_exporter": "python",
   "pygments_lexer": "ipython3",
   "version": "3.11.5"
  }
 },
 "nbformat": 4,
 "nbformat_minor": 2
}
